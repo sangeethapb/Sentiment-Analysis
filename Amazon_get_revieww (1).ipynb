{
 "cells": [
  {
   "cell_type": "code",
   "execution_count": 1,
   "id": "b53ae924",
   "metadata": {},
   "outputs": [],
   "source": [
    "import pandas as pd\n",
    "import requests\n",
    "import numpy as np\n",
    "from bs4 import BeautifulSoup"
   ]
  },
  {
   "cell_type": "code",
   "execution_count": 2,
   "id": "57aab1b2",
   "metadata": {},
   "outputs": [],
   "source": [
    "i = 2"
   ]
  },
  {
   "cell_type": "code",
   "execution_count": 3,
   "id": "d4cde0d3",
   "metadata": {},
   "outputs": [],
   "source": [
    "headers={'User-Agent':'Mozilla/5.0 (Windows NT 6.3; Win 64 ; x64) Apple WeKit /537.36(KHTML , like Gecko) Chrome/80.0.3987.162 Safari/537.36'} # use this line to trick the site to assume that the access request is from user and not from a bot(python notebook)"
   ]
  },
  {
   "cell_type": "code",
   "execution_count": 4,
   "id": "3bb85cdf",
   "metadata": {},
   "outputs": [],
   "source": [
    "# user_name = reviews[0].find('span',class_ = 'a-profile-name').text"
   ]
  },
  {
   "cell_type": "code",
   "execution_count": 5,
   "id": "da2d41c9",
   "metadata": {},
   "outputs": [],
   "source": [
    "# rating = reviews[0].find('i', {'data-hook':'review-star-rating'}).text"
   ]
  },
  {
   "cell_type": "code",
   "execution_count": 6,
   "id": "4ca3d3df",
   "metadata": {},
   "outputs": [],
   "source": [
    "# review_title = reviews[0].find('a', {'data-hook':'review-title'}).text.strip().split('\\n')[-1]"
   ]
  },
  {
   "cell_type": "code",
   "execution_count": 7,
   "id": "996ac99f",
   "metadata": {},
   "outputs": [],
   "source": [
    "# data_reviewed = reviews[0].find('span', {'data-hook':'review-date'}).text.strip().replace('Reviewed in India on ','')"
   ]
  },
  {
   "cell_type": "code",
   "execution_count": 8,
   "id": "53cceb3e",
   "metadata": {},
   "outputs": [],
   "source": [
    "# review_body = reviews[0].find('span', {'data-hook':'review-body'}).text.strip()"
   ]
  },
  {
   "cell_type": "code",
   "execution_count": 9,
   "id": "632cdaf2",
   "metadata": {},
   "outputs": [],
   "source": [
    "# prod_colour = reviews[0].find('a', {'data-hook':'format-strip'}).text.strip().replace('Colour: ','')"
   ]
  },
  {
   "cell_type": "markdown",
   "id": "fe1ecd4f",
   "metadata": {},
   "source": [
    "# Extracting Data using Web Scraping\n"
   ]
  },
  {
   "cell_type": "code",
   "execution_count": 285,
   "id": "3fcd6070",
   "metadata": {},
   "outputs": [],
   "source": [
    "prod_url = \"https://www.amazon.in/Boya-Omnidirectional-Lavalier-Condenser-Microphone/dp/B076B8G5D8\" # Can be change multiple time"
   ]
  },
  {
   "cell_type": "code",
   "execution_count": 11,
   "id": "913b12ad",
   "metadata": {},
   "outputs": [],
   "source": [
    "final_df = pd.DataFrame() # empty dataset "
   ]
  },
  {
   "cell_type": "code",
   "execution_count": 286,
   "id": "51192a62",
   "metadata": {},
   "outputs": [],
   "source": [
    "# final_df = pd.DataFrame()\n",
    "for j in range(1,15):\n",
    "    \n",
    "    review_url = prod_url.replace('dp','product-review') + f\"?pageNumber={j}&sortBy=recent\" \n",
    "    headers={'User-Agent':'Mozilla/5.0 (Windows NT 6.3; Win 64 ; x64) Apple WeKit /537.36(KHTML , like Gecko) Chrome/80.0.3987.162 Safari/537.36'} \n",
    "    webpage = requests.get(review_url,headers=headers).text\n",
    "    soup = BeautifulSoup(webpage,'html.parser')\n",
    "    reviews = soup.find_all('div',{'data-hook':'review'})  # reviews are in the data-hook = 'review' selecter\n",
    "\n",
    "    user_name=[] # add data to the list\n",
    "    rating=[]\n",
    "    review_title = []\n",
    "    date_reviewed = []\n",
    "    review_body = []\n",
    "    prod_colour = []\n",
    "    prod_name = []\n",
    "\n",
    "    for item in reviews:\n",
    "        try:\n",
    "            user_name.append(item.find('span',class_ = 'a-profile-name').text.strip())\n",
    "        except:\n",
    "            user_name.append(np.nan) # If the value does not exist or missing\n",
    "\n",
    "        try:\n",
    "            rating.append(item.find('i', {'data-hook':'review-star-rating'}).text.strip())\n",
    "        except:\n",
    "            rating.append(np.nan)\n",
    "\n",
    "        try:\n",
    "            review_title.append(item.find('a', {'data-hook':'review-title'}).text.strip().split('\\n')[-1])\n",
    "        except:\n",
    "            review_title.append(np.nan)\n",
    "\n",
    "        try:\n",
    "            date_reviewed.append(item.find('span', {'data-hook':'review-date'}).text.strip().replace('Reviewed in India on ',''))\n",
    "        except:\n",
    "            date_reviewed.append(np.nan)\n",
    "\n",
    "        try:\n",
    "            review_body.append(item.find('span', {'data-hook':'review-body'}).text.strip())\n",
    "        except:\n",
    "            review_body.append(np.nan)\n",
    "\n",
    "        try:\n",
    "            prod_colour.append(item.find('a', {'data-hook':'format-strip'}).text.strip().replace('Colour: ',''))\n",
    "        except:\n",
    "            prod_colour.append(np.nan) # If the value does not exist or missing\n",
    "\n",
    "        try:\n",
    "            prod_name.append(soup.find('a', {'data-hook':'product-link'}).text.strip())\n",
    "        except:\n",
    "            prod_name.append(np.nan)\n",
    "\n",
    "\n",
    "    df = pd.DataFrame({'Product_name':prod_name , 'rating':rating, 'product_color' : prod_colour, 'user_name': user_name, 'review_title': review_title, 'review_discription':review_body, 'review_dated': date_reviewed })\n",
    "    final_df = pd.concat([final_df,df],ignore_index=True)\n"
   ]
  },
  {
   "cell_type": "code",
   "execution_count": 287,
   "id": "da4b45ea",
   "metadata": {},
   "outputs": [
    {
     "data": {
      "text/plain": [
       "(3312, 7)"
      ]
     },
     "execution_count": 287,
     "metadata": {},
     "output_type": "execute_result"
    }
   ],
   "source": [
    "final_df.shape"
   ]
  },
  {
   "cell_type": "code",
   "execution_count": 288,
   "id": "5c747765",
   "metadata": {},
   "outputs": [
    {
     "name": "stdout",
     "output_type": "stream",
     "text": [
      "<class 'pandas.core.frame.DataFrame'>\n",
      "RangeIndex: 3312 entries, 0 to 3311\n",
      "Data columns (total 7 columns):\n",
      " #   Column              Non-Null Count  Dtype \n",
      "---  ------              --------------  ----- \n",
      " 0   Product_name        3190 non-null   object\n",
      " 1   rating              3300 non-null   object\n",
      " 2   product_color       3005 non-null   object\n",
      " 3   user_name           3312 non-null   object\n",
      " 4   review_title        3300 non-null   object\n",
      " 5   review_discription  3312 non-null   object\n",
      " 6   review_dated        3312 non-null   object\n",
      "dtypes: object(7)\n",
      "memory usage: 181.3+ KB\n"
     ]
    }
   ],
   "source": [
    "final_df.info()"
   ]
  },
  {
   "cell_type": "code",
   "execution_count": 289,
   "id": "7563257e",
   "metadata": {},
   "outputs": [],
   "source": [
    "# final_df.drop_duplicates(inplace=True)"
   ]
  },
  {
   "cell_type": "code",
   "execution_count": 290,
   "id": "38d6bbc3",
   "metadata": {},
   "outputs": [
    {
     "data": {
      "text/plain": [
       "122"
      ]
     },
     "execution_count": 290,
     "metadata": {},
     "output_type": "execute_result"
    }
   ],
   "source": [
    "final_df.duplicated().sum()"
   ]
  },
  {
   "cell_type": "code",
   "execution_count": 291,
   "id": "0369332a",
   "metadata": {},
   "outputs": [
    {
     "data": {
      "text/plain": [
       "55"
      ]
     },
     "execution_count": 291,
     "metadata": {},
     "output_type": "execute_result"
    }
   ],
   "source": [
    "len(final_df['Product_name'].unique())"
   ]
  },
  {
   "cell_type": "code",
   "execution_count": 292,
   "id": "bcb4a77b",
   "metadata": {},
   "outputs": [
    {
     "data": {
      "text/html": [
       "<div>\n",
       "<style scoped>\n",
       "    .dataframe tbody tr th:only-of-type {\n",
       "        vertical-align: middle;\n",
       "    }\n",
       "\n",
       "    .dataframe tbody tr th {\n",
       "        vertical-align: top;\n",
       "    }\n",
       "\n",
       "    .dataframe thead th {\n",
       "        text-align: right;\n",
       "    }\n",
       "</style>\n",
       "<table border=\"1\" class=\"dataframe\">\n",
       "  <thead>\n",
       "    <tr style=\"text-align: right;\">\n",
       "      <th></th>\n",
       "      <th>Product_name</th>\n",
       "      <th>rating</th>\n",
       "      <th>product_color</th>\n",
       "      <th>user_name</th>\n",
       "      <th>review_title</th>\n",
       "      <th>review_discription</th>\n",
       "      <th>review_dated</th>\n",
       "    </tr>\n",
       "  </thead>\n",
       "  <tbody>\n",
       "    <tr>\n",
       "      <th>0</th>\n",
       "      <td>realme Buds Wireless 3 in-Ear Bluetooth Headph...</td>\n",
       "      <td>1.0 out of 5 stars</td>\n",
       "      <td>Blue</td>\n",
       "      <td>Jaysingh</td>\n",
       "      <td>Ekdm bakwas</td>\n",
       "      <td>Very very bad</td>\n",
       "      <td>22 August 2024</td>\n",
       "    </tr>\n",
       "    <tr>\n",
       "      <th>1</th>\n",
       "      <td>realme Buds Wireless 3 in-Ear Bluetooth Headph...</td>\n",
       "      <td>5.0 out of 5 stars</td>\n",
       "      <td>Vitality White</td>\n",
       "      <td>Firoz</td>\n",
       "      <td>Good noise cancellation</td>\n",
       "      <td>Good bass and noise cancellation</td>\n",
       "      <td>22 August 2024</td>\n",
       "    </tr>\n",
       "    <tr>\n",
       "      <th>2</th>\n",
       "      <td>realme Buds Wireless 3 in-Ear Bluetooth Headph...</td>\n",
       "      <td>5.0 out of 5 stars</td>\n",
       "      <td>Black</td>\n",
       "      <td>Dev Dadhich</td>\n",
       "      <td>Excellent 👌👌👌👌👌</td>\n",
       "      <td>Excellent product</td>\n",
       "      <td>22 August 2024</td>\n",
       "    </tr>\n",
       "    <tr>\n",
       "      <th>3</th>\n",
       "      <td>realme Buds Wireless 3 in-Ear Bluetooth Headph...</td>\n",
       "      <td>1.0 out of 5 stars</td>\n",
       "      <td>Pure Black</td>\n",
       "      <td>Amazon Customer</td>\n",
       "      <td>Product seal was broken when received......sel...</td>\n",
       "      <td>The media could not be loaded.\\n              ...</td>\n",
       "      <td>22 August 2024</td>\n",
       "    </tr>\n",
       "    <tr>\n",
       "      <th>4</th>\n",
       "      <td>realme Buds Wireless 3 in-Ear Bluetooth Headph...</td>\n",
       "      <td>4.0 out of 5 stars</td>\n",
       "      <td>Pure Black</td>\n",
       "      <td>RamizKhan</td>\n",
       "      <td>Overall worth my money,1200 (offer applied)</td>\n",
       "      <td>Decent performance!Slightly uncomfortable!</td>\n",
       "      <td>22 August 2024</td>\n",
       "    </tr>\n",
       "    <tr>\n",
       "      <th>...</th>\n",
       "      <td>...</td>\n",
       "      <td>...</td>\n",
       "      <td>...</td>\n",
       "      <td>...</td>\n",
       "      <td>...</td>\n",
       "      <td>...</td>\n",
       "      <td>...</td>\n",
       "    </tr>\n",
       "    <tr>\n",
       "      <th>3307</th>\n",
       "      <td>Boya ByM1 Auxiliary Omnidirectional Lavalier C...</td>\n",
       "      <td>1.0 out of 5 stars</td>\n",
       "      <td>Style Name: BY-M1 Black</td>\n",
       "      <td>Abhi</td>\n",
       "      <td>Low quality</td>\n",
       "      <td>Earphone has better mic than it.</td>\n",
       "      <td>16 July 2024</td>\n",
       "    </tr>\n",
       "    <tr>\n",
       "      <th>3308</th>\n",
       "      <td>Boya ByM1 Auxiliary Omnidirectional Lavalier C...</td>\n",
       "      <td>5.0 out of 5 stars</td>\n",
       "      <td>Style Name: BY-M1 Black</td>\n",
       "      <td>The product is very nice</td>\n",
       "      <td>Good</td>\n",
       "      <td>Everything is good</td>\n",
       "      <td>16 July 2024</td>\n",
       "    </tr>\n",
       "    <tr>\n",
       "      <th>3309</th>\n",
       "      <td>Boya ByM1 Auxiliary Omnidirectional Lavalier C...</td>\n",
       "      <td>5.0 out of 5 stars</td>\n",
       "      <td>Style Name: BY-M1 Black</td>\n",
       "      <td>Priyanka J.</td>\n",
       "      <td>Nice</td>\n",
       "      <td>Must but</td>\n",
       "      <td>16 July 2024</td>\n",
       "    </tr>\n",
       "    <tr>\n",
       "      <th>3310</th>\n",
       "      <td>Boya ByM1 Auxiliary Omnidirectional Lavalier C...</td>\n",
       "      <td>3.0 out of 5 stars</td>\n",
       "      <td>Style Name: BY-M1 Pro</td>\n",
       "      <td>Raj Kanhowa</td>\n",
       "      <td>Good</td>\n",
       "      <td>The media could not be loaded.</td>\n",
       "      <td>15 July 2024</td>\n",
       "    </tr>\n",
       "    <tr>\n",
       "      <th>3311</th>\n",
       "      <td>Boya ByM1 Auxiliary Omnidirectional Lavalier C...</td>\n",
       "      <td>5.0 out of 5 stars</td>\n",
       "      <td>Style Name: BY-M1 Black</td>\n",
       "      <td>Lokesh</td>\n",
       "      <td>Best</td>\n",
       "      <td>Best mic</td>\n",
       "      <td>15 July 2024</td>\n",
       "    </tr>\n",
       "  </tbody>\n",
       "</table>\n",
       "<p>3312 rows × 7 columns</p>\n",
       "</div>"
      ],
      "text/plain": [
       "                                           Product_name              rating  \\\n",
       "0     realme Buds Wireless 3 in-Ear Bluetooth Headph...  1.0 out of 5 stars   \n",
       "1     realme Buds Wireless 3 in-Ear Bluetooth Headph...  5.0 out of 5 stars   \n",
       "2     realme Buds Wireless 3 in-Ear Bluetooth Headph...  5.0 out of 5 stars   \n",
       "3     realme Buds Wireless 3 in-Ear Bluetooth Headph...  1.0 out of 5 stars   \n",
       "4     realme Buds Wireless 3 in-Ear Bluetooth Headph...  4.0 out of 5 stars   \n",
       "...                                                 ...                 ...   \n",
       "3307  Boya ByM1 Auxiliary Omnidirectional Lavalier C...  1.0 out of 5 stars   \n",
       "3308  Boya ByM1 Auxiliary Omnidirectional Lavalier C...  5.0 out of 5 stars   \n",
       "3309  Boya ByM1 Auxiliary Omnidirectional Lavalier C...  5.0 out of 5 stars   \n",
       "3310  Boya ByM1 Auxiliary Omnidirectional Lavalier C...  3.0 out of 5 stars   \n",
       "3311  Boya ByM1 Auxiliary Omnidirectional Lavalier C...  5.0 out of 5 stars   \n",
       "\n",
       "                product_color                 user_name  \\\n",
       "0                        Blue                  Jaysingh   \n",
       "1              Vitality White                     Firoz   \n",
       "2                       Black               Dev Dadhich   \n",
       "3                  Pure Black           Amazon Customer   \n",
       "4                  Pure Black                 RamizKhan   \n",
       "...                       ...                       ...   \n",
       "3307  Style Name: BY-M1 Black                      Abhi   \n",
       "3308  Style Name: BY-M1 Black  The product is very nice   \n",
       "3309  Style Name: BY-M1 Black               Priyanka J.   \n",
       "3310    Style Name: BY-M1 Pro               Raj Kanhowa   \n",
       "3311  Style Name: BY-M1 Black                    Lokesh   \n",
       "\n",
       "                                           review_title  \\\n",
       "0                                           Ekdm bakwas   \n",
       "1                               Good noise cancellation   \n",
       "2                                       Excellent 👌👌👌👌👌   \n",
       "3     Product seal was broken when received......sel...   \n",
       "4           Overall worth my money,1200 (offer applied)   \n",
       "...                                                 ...   \n",
       "3307                                        Low quality   \n",
       "3308                                               Good   \n",
       "3309                                               Nice   \n",
       "3310                                               Good   \n",
       "3311                                               Best   \n",
       "\n",
       "                                     review_discription    review_dated  \n",
       "0                                         Very very bad  22 August 2024  \n",
       "1                      Good bass and noise cancellation  22 August 2024  \n",
       "2                                     Excellent product  22 August 2024  \n",
       "3     The media could not be loaded.\\n              ...  22 August 2024  \n",
       "4            Decent performance!Slightly uncomfortable!  22 August 2024  \n",
       "...                                                 ...             ...  \n",
       "3307                   Earphone has better mic than it.    16 July 2024  \n",
       "3308                                 Everything is good    16 July 2024  \n",
       "3309                                           Must but    16 July 2024  \n",
       "3310                     The media could not be loaded.    15 July 2024  \n",
       "3311                                           Best mic    15 July 2024  \n",
       "\n",
       "[3312 rows x 7 columns]"
      ]
     },
     "execution_count": 292,
     "metadata": {},
     "output_type": "execute_result"
    }
   ],
   "source": [
    "final_df"
   ]
  },
  {
   "cell_type": "code",
   "execution_count": 293,
   "id": "bddb39e9",
   "metadata": {},
   "outputs": [],
   "source": [
    "final_df.to_csv('dataset_extracted.csv')   # creating CSV file"
   ]
  },
  {
   "cell_type": "code",
   "execution_count": 294,
   "id": "ab4a757a",
   "metadata": {},
   "outputs": [],
   "source": [
    "data = pd.read_csv('dataset_extracted.csv',index_col=0)"
   ]
  },
  {
   "cell_type": "code",
   "execution_count": 295,
   "id": "d262e810",
   "metadata": {},
   "outputs": [
    {
     "data": {
      "text/html": [
       "<div>\n",
       "<style scoped>\n",
       "    .dataframe tbody tr th:only-of-type {\n",
       "        vertical-align: middle;\n",
       "    }\n",
       "\n",
       "    .dataframe tbody tr th {\n",
       "        vertical-align: top;\n",
       "    }\n",
       "\n",
       "    .dataframe thead th {\n",
       "        text-align: right;\n",
       "    }\n",
       "</style>\n",
       "<table border=\"1\" class=\"dataframe\">\n",
       "  <thead>\n",
       "    <tr style=\"text-align: right;\">\n",
       "      <th></th>\n",
       "      <th>Product_name</th>\n",
       "      <th>rating</th>\n",
       "      <th>product_color</th>\n",
       "      <th>user_name</th>\n",
       "      <th>review_title</th>\n",
       "      <th>review_discription</th>\n",
       "      <th>review_dated</th>\n",
       "    </tr>\n",
       "  </thead>\n",
       "  <tbody>\n",
       "    <tr>\n",
       "      <th>0</th>\n",
       "      <td>realme Buds Wireless 3 in-Ear Bluetooth Headph...</td>\n",
       "      <td>1.0 out of 5 stars</td>\n",
       "      <td>Blue</td>\n",
       "      <td>Jaysingh</td>\n",
       "      <td>Ekdm bakwas</td>\n",
       "      <td>Very very bad</td>\n",
       "      <td>22 August 2024</td>\n",
       "    </tr>\n",
       "    <tr>\n",
       "      <th>1</th>\n",
       "      <td>realme Buds Wireless 3 in-Ear Bluetooth Headph...</td>\n",
       "      <td>5.0 out of 5 stars</td>\n",
       "      <td>Vitality White</td>\n",
       "      <td>Firoz</td>\n",
       "      <td>Good noise cancellation</td>\n",
       "      <td>Good bass and noise cancellation</td>\n",
       "      <td>22 August 2024</td>\n",
       "    </tr>\n",
       "    <tr>\n",
       "      <th>2</th>\n",
       "      <td>realme Buds Wireless 3 in-Ear Bluetooth Headph...</td>\n",
       "      <td>5.0 out of 5 stars</td>\n",
       "      <td>Black</td>\n",
       "      <td>Dev Dadhich</td>\n",
       "      <td>Excellent 👌👌👌👌👌</td>\n",
       "      <td>Excellent product</td>\n",
       "      <td>22 August 2024</td>\n",
       "    </tr>\n",
       "    <tr>\n",
       "      <th>3</th>\n",
       "      <td>realme Buds Wireless 3 in-Ear Bluetooth Headph...</td>\n",
       "      <td>1.0 out of 5 stars</td>\n",
       "      <td>Pure Black</td>\n",
       "      <td>Amazon Customer</td>\n",
       "      <td>Product seal was broken when received......sel...</td>\n",
       "      <td>The media could not be loaded.\\n              ...</td>\n",
       "      <td>22 August 2024</td>\n",
       "    </tr>\n",
       "    <tr>\n",
       "      <th>4</th>\n",
       "      <td>realme Buds Wireless 3 in-Ear Bluetooth Headph...</td>\n",
       "      <td>4.0 out of 5 stars</td>\n",
       "      <td>Pure Black</td>\n",
       "      <td>RamizKhan</td>\n",
       "      <td>Overall worth my money,1200 (offer applied)</td>\n",
       "      <td>Decent performance!Slightly uncomfortable!</td>\n",
       "      <td>22 August 2024</td>\n",
       "    </tr>\n",
       "    <tr>\n",
       "      <th>...</th>\n",
       "      <td>...</td>\n",
       "      <td>...</td>\n",
       "      <td>...</td>\n",
       "      <td>...</td>\n",
       "      <td>...</td>\n",
       "      <td>...</td>\n",
       "      <td>...</td>\n",
       "    </tr>\n",
       "    <tr>\n",
       "      <th>3307</th>\n",
       "      <td>Boya ByM1 Auxiliary Omnidirectional Lavalier C...</td>\n",
       "      <td>1.0 out of 5 stars</td>\n",
       "      <td>Style Name: BY-M1 Black</td>\n",
       "      <td>Abhi</td>\n",
       "      <td>Low quality</td>\n",
       "      <td>Earphone has better mic than it.</td>\n",
       "      <td>16 July 2024</td>\n",
       "    </tr>\n",
       "    <tr>\n",
       "      <th>3308</th>\n",
       "      <td>Boya ByM1 Auxiliary Omnidirectional Lavalier C...</td>\n",
       "      <td>5.0 out of 5 stars</td>\n",
       "      <td>Style Name: BY-M1 Black</td>\n",
       "      <td>The product is very nice</td>\n",
       "      <td>Good</td>\n",
       "      <td>Everything is good</td>\n",
       "      <td>16 July 2024</td>\n",
       "    </tr>\n",
       "    <tr>\n",
       "      <th>3309</th>\n",
       "      <td>Boya ByM1 Auxiliary Omnidirectional Lavalier C...</td>\n",
       "      <td>5.0 out of 5 stars</td>\n",
       "      <td>Style Name: BY-M1 Black</td>\n",
       "      <td>Priyanka J.</td>\n",
       "      <td>Nice</td>\n",
       "      <td>Must but</td>\n",
       "      <td>16 July 2024</td>\n",
       "    </tr>\n",
       "    <tr>\n",
       "      <th>3310</th>\n",
       "      <td>Boya ByM1 Auxiliary Omnidirectional Lavalier C...</td>\n",
       "      <td>3.0 out of 5 stars</td>\n",
       "      <td>Style Name: BY-M1 Pro</td>\n",
       "      <td>Raj Kanhowa</td>\n",
       "      <td>Good</td>\n",
       "      <td>The media could not be loaded.</td>\n",
       "      <td>15 July 2024</td>\n",
       "    </tr>\n",
       "    <tr>\n",
       "      <th>3311</th>\n",
       "      <td>Boya ByM1 Auxiliary Omnidirectional Lavalier C...</td>\n",
       "      <td>5.0 out of 5 stars</td>\n",
       "      <td>Style Name: BY-M1 Black</td>\n",
       "      <td>Lokesh</td>\n",
       "      <td>Best</td>\n",
       "      <td>Best mic</td>\n",
       "      <td>15 July 2024</td>\n",
       "    </tr>\n",
       "  </tbody>\n",
       "</table>\n",
       "<p>3312 rows × 7 columns</p>\n",
       "</div>"
      ],
      "text/plain": [
       "                                           Product_name              rating  \\\n",
       "0     realme Buds Wireless 3 in-Ear Bluetooth Headph...  1.0 out of 5 stars   \n",
       "1     realme Buds Wireless 3 in-Ear Bluetooth Headph...  5.0 out of 5 stars   \n",
       "2     realme Buds Wireless 3 in-Ear Bluetooth Headph...  5.0 out of 5 stars   \n",
       "3     realme Buds Wireless 3 in-Ear Bluetooth Headph...  1.0 out of 5 stars   \n",
       "4     realme Buds Wireless 3 in-Ear Bluetooth Headph...  4.0 out of 5 stars   \n",
       "...                                                 ...                 ...   \n",
       "3307  Boya ByM1 Auxiliary Omnidirectional Lavalier C...  1.0 out of 5 stars   \n",
       "3308  Boya ByM1 Auxiliary Omnidirectional Lavalier C...  5.0 out of 5 stars   \n",
       "3309  Boya ByM1 Auxiliary Omnidirectional Lavalier C...  5.0 out of 5 stars   \n",
       "3310  Boya ByM1 Auxiliary Omnidirectional Lavalier C...  3.0 out of 5 stars   \n",
       "3311  Boya ByM1 Auxiliary Omnidirectional Lavalier C...  5.0 out of 5 stars   \n",
       "\n",
       "                product_color                 user_name  \\\n",
       "0                        Blue                  Jaysingh   \n",
       "1              Vitality White                     Firoz   \n",
       "2                       Black               Dev Dadhich   \n",
       "3                  Pure Black           Amazon Customer   \n",
       "4                  Pure Black                 RamizKhan   \n",
       "...                       ...                       ...   \n",
       "3307  Style Name: BY-M1 Black                      Abhi   \n",
       "3308  Style Name: BY-M1 Black  The product is very nice   \n",
       "3309  Style Name: BY-M1 Black               Priyanka J.   \n",
       "3310    Style Name: BY-M1 Pro               Raj Kanhowa   \n",
       "3311  Style Name: BY-M1 Black                    Lokesh   \n",
       "\n",
       "                                           review_title  \\\n",
       "0                                           Ekdm bakwas   \n",
       "1                               Good noise cancellation   \n",
       "2                                       Excellent 👌👌👌👌👌   \n",
       "3     Product seal was broken when received......sel...   \n",
       "4           Overall worth my money,1200 (offer applied)   \n",
       "...                                                 ...   \n",
       "3307                                        Low quality   \n",
       "3308                                               Good   \n",
       "3309                                               Nice   \n",
       "3310                                               Good   \n",
       "3311                                               Best   \n",
       "\n",
       "                                     review_discription    review_dated  \n",
       "0                                         Very very bad  22 August 2024  \n",
       "1                      Good bass and noise cancellation  22 August 2024  \n",
       "2                                     Excellent product  22 August 2024  \n",
       "3     The media could not be loaded.\\n              ...  22 August 2024  \n",
       "4            Decent performance!Slightly uncomfortable!  22 August 2024  \n",
       "...                                                 ...             ...  \n",
       "3307                   Earphone has better mic than it.    16 July 2024  \n",
       "3308                                 Everything is good    16 July 2024  \n",
       "3309                                           Must but    16 July 2024  \n",
       "3310                     The media could not be loaded.    15 July 2024  \n",
       "3311                                           Best mic    15 July 2024  \n",
       "\n",
       "[3312 rows x 7 columns]"
      ]
     },
     "execution_count": 295,
     "metadata": {},
     "output_type": "execute_result"
    }
   ],
   "source": [
    "data"
   ]
  },
  {
   "cell_type": "code",
   "execution_count": 297,
   "id": "651b9766",
   "metadata": {},
   "outputs": [],
   "source": [
    "# Save data\n",
    "data.to_csv('reviewssccc.csv', index=False)"
   ]
  },
  {
   "cell_type": "code",
   "execution_count": null,
   "id": "882fa67e",
   "metadata": {},
   "outputs": [],
   "source": []
  }
 ],
 "metadata": {
  "kernelspec": {
   "display_name": "Python 3 (ipykernel)",
   "language": "python",
   "name": "python3"
  },
  "language_info": {
   "codemirror_mode": {
    "name": "ipython",
    "version": 3
   },
   "file_extension": ".py",
   "mimetype": "text/x-python",
   "name": "python",
   "nbconvert_exporter": "python",
   "pygments_lexer": "ipython3",
   "version": "3.11.5"
  }
 },
 "nbformat": 4,
 "nbformat_minor": 5
}
